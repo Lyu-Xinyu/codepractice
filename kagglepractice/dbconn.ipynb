{
 "cells": [
  {
   "cell_type": "code",
   "execution_count": 1,
   "metadata": {},
   "outputs": [],
   "source": [
    "import cx_Oracle\n",
    "\n",
    "# 指定Oracle Client库的位置\n",
    "cx_Oracle.init_oracle_client(lib_dir='D:\\\\app\\\\client\\\\LUCY\\\\instantclient-basic-windows.x64-21.14.0.0.0dbru\\\\instantclient_21_14')\n",
    "\n",
    "def conn_oracle(database_url):\n",
    "    conn = cx_Oracle.connect(database_url)\n",
    "    return conn\n"
   ]
  },
  {
   "cell_type": "code",
   "execution_count": 2,
   "metadata": {},
   "outputs": [],
   "source": [
    "dev_osr_conn = conn_oracle('osrmgmt/gtja_97f1bf31a0@10.65.200.201:1521/billpdb')"
   ]
  }
 ],
 "metadata": {
  "kernelspec": {
   "display_name": "Python 3",
   "language": "python",
   "name": "python3"
  },
  "language_info": {
   "codemirror_mode": {
    "name": "ipython",
    "version": 3
   },
   "file_extension": ".py",
   "mimetype": "text/x-python",
   "name": "python",
   "nbconvert_exporter": "python",
   "pygments_lexer": "ipython3",
   "version": "3.11.9"
  }
 },
 "nbformat": 4,
 "nbformat_minor": 2
}
